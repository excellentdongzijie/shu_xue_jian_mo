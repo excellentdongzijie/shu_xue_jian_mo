{
 "cells": [
  {
   "cell_type": "markdown",
   "id": "931cd282",
   "metadata": {},
   "source": [
    "一、前言\n",
    "- 1.在数值计算中，如三次样条插值或用差分法求解微分方程边值问题时会遇到三对角方程组。现在来讲一讲求解方法。\n",
    "\n",
    "- 2.本文借鉴了https://www.bilibili.com/video/BV1aA41147Ab。"
   ]
  },
  {
   "cell_type": "markdown",
   "id": "7b5668f0",
   "metadata": {},
   "source": [
    "# 传统方法"
   ]
  },
  {
   "cell_type": "code",
   "execution_count": 1,
   "id": "31a79178",
   "metadata": {},
   "outputs": [
    {
     "name": "stdout",
     "output_type": "stream",
     "text": [
      "传统方法： [0.48076923 0.07692308 0.21153846 0.07692308 0.48076923]\n"
     ]
    }
   ],
   "source": [
    "\n",
    "import numpy as np\n",
    " \n",
    "A = np.array([[4, 1, 0, 0, 0],\n",
    "              [1, 4, 1, 0, 0],\n",
    "              [0, 1, 4, 1, 0],\n",
    "              [0, 0, 1, 4, 1],\n",
    "              [0, 0, 0, 1, 4]])\n",
    "f = np.array([2, 1, 1, 1, 2])\n",
    "# 一、左乘A逆\n",
    "print('传统方法：', np.linalg.inv(A) @ f)\n"
   ]
  },
  {
   "cell_type": "markdown",
   "id": "dbdcc5d5",
   "metadata": {},
   "source": [
    "# 追赶法"
   ]
  },
  {
   "cell_type": "code",
   "execution_count": 2,
   "id": "05def96e",
   "metadata": {},
   "outputs": [
    {
     "name": "stdout",
     "output_type": "stream",
     "text": [
      "追赶法： [0.48076923 0.07692308 0.21153846 0.07692308 0.48076923]\n"
     ]
    }
   ],
   "source": [
    "# 二、追赶法\n",
    "a = np.array([0, 1, 1, 1, 1], dtype=float)\n",
    "b = np.array([4, 4, 4, 4, 4], dtype=float)\n",
    "c = np.array([1, 1, 1, 1, 0], dtype=float)\n",
    "y = np.zeros(5)\n",
    "B = np.zeros(5)\n",
    "x = np.zeros(5)\n",
    "y[0] = f[0] / b[0]\n",
    "d = b[0]\n",
    "for i in range(1, 5):\n",
    "    B[i - 1] = c[i - 1] / d\n",
    "    d = b[i] - a[i] * B[i - 1]\n",
    "    y[i] = (f[i] - a[i] * y[i - 1]) / d\n",
    "x[4] = y[4]\n",
    " \n",
    "for i in range(3, -1, -1):\n",
    "    x[i] = y[i] - B[i] * x[i + 1]\n",
    "print('追赶法：', x)"
   ]
  },
  {
   "cell_type": "code",
   "execution_count": null,
   "id": "859cfa7f",
   "metadata": {},
   "outputs": [],
   "source": []
  },
  {
   "cell_type": "code",
   "execution_count": null,
   "id": "30cd43d4",
   "metadata": {},
   "outputs": [],
   "source": []
  },
  {
   "cell_type": "code",
   "execution_count": null,
   "id": "4a3e3b1e",
   "metadata": {},
   "outputs": [],
   "source": []
  },
  {
   "cell_type": "code",
   "execution_count": null,
   "id": "ddce6f17",
   "metadata": {},
   "outputs": [],
   "source": []
  },
  {
   "cell_type": "code",
   "execution_count": null,
   "id": "3ace655b",
   "metadata": {},
   "outputs": [],
   "source": []
  },
  {
   "cell_type": "code",
   "execution_count": null,
   "id": "6692dc70",
   "metadata": {},
   "outputs": [],
   "source": []
  },
  {
   "cell_type": "code",
   "execution_count": null,
   "id": "9ea0d3b7",
   "metadata": {},
   "outputs": [],
   "source": []
  },
  {
   "cell_type": "code",
   "execution_count": null,
   "id": "3a195032",
   "metadata": {},
   "outputs": [],
   "source": []
  },
  {
   "cell_type": "code",
   "execution_count": null,
   "id": "47c8189b",
   "metadata": {},
   "outputs": [],
   "source": []
  }
 ],
 "metadata": {
  "kernelspec": {
   "display_name": "shu_xue_jian_mo",
   "language": "python",
   "name": "shu_xue_jian_mo"
  },
  "language_info": {
   "codemirror_mode": {
    "name": "ipython",
    "version": 3
   },
   "file_extension": ".py",
   "mimetype": "text/x-python",
   "name": "python",
   "nbconvert_exporter": "python",
   "pygments_lexer": "ipython3",
   "version": "3.8.17"
  },
  "nbTranslate": {
   "displayLangs": [
    "*"
   ],
   "hotkey": "alt-t",
   "langInMainMenu": true,
   "sourceLang": "en",
   "targetLang": "fr",
   "useGoogleTranslate": true
  },
  "toc": {
   "base_numbering": 1,
   "nav_menu": {},
   "number_sections": true,
   "sideBar": true,
   "skip_h1_title": false,
   "title_cell": "Table of Contents",
   "title_sidebar": "Contents",
   "toc_cell": false,
   "toc_position": {},
   "toc_section_display": true,
   "toc_window_display": false
  },
  "varInspector": {
   "cols": {
    "lenName": 16,
    "lenType": 16,
    "lenVar": 40
   },
   "kernels_config": {
    "python": {
     "delete_cmd_postfix": "",
     "delete_cmd_prefix": "del ",
     "library": "var_list.py",
     "varRefreshCmd": "print(var_dic_list())"
    },
    "r": {
     "delete_cmd_postfix": ") ",
     "delete_cmd_prefix": "rm(",
     "library": "var_list.r",
     "varRefreshCmd": "cat(var_dic_list()) "
    }
   },
   "types_to_exclude": [
    "module",
    "function",
    "builtin_function_or_method",
    "instance",
    "_Feature"
   ],
   "window_display": false
  }
 },
 "nbformat": 4,
 "nbformat_minor": 5
}
